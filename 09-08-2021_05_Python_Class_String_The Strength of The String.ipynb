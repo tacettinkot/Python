{
 "cells": [
  {
   "cell_type": "markdown",
   "metadata": {},
   "source": [
    "  # The Strength of The String"
   ]
  },
  {
   "cell_type": "code",
   "execution_count": 1,
   "metadata": {},
   "outputs": [
    {
     "ename": "NameError",
     "evalue": "name 'my_name' is not defined",
     "output_type": "error",
     "traceback": [
      "\u001b[0;31m---------------------------------------------------------------------------\u001b[0m",
      "\u001b[0;31mNameError\u001b[0m                                 Traceback (most recent call last)",
      "\u001b[0;32m/tmp/ipykernel_2955/2807883850.py\u001b[0m in \u001b[0;36m<module>\u001b[0;34m\u001b[0m\n\u001b[0;32m----> 1\u001b[0;31m \u001b[0mprint\u001b[0m\u001b[0;34m(\u001b[0m\u001b[0mmy_name\u001b[0m\u001b[0;34m)\u001b[0m\u001b[0;34m\u001b[0m\u001b[0;34m\u001b[0m\u001b[0m\n\u001b[0m",
      "\u001b[0;31mNameError\u001b[0m: name 'my_name' is not defined"
     ]
    }
   ],
   "source": [
    "print(my_name)"
   ]
  },
  {
   "cell_type": "code",
   "execution_count": 2,
   "metadata": {},
   "outputs": [
    {
     "name": "stdout",
     "output_type": "stream",
     "text": [
      "my_name\n"
     ]
    }
   ],
   "source": [
    "print('my_name')"
   ]
  },
  {
   "cell_type": "markdown",
   "metadata": {},
   "source": [
    "## 1) Indexing&Slicing Strings\n",
    "It will allow us to seperate the string in its characters \n",
    "\n",
    "[start:stop:step]\n",
    "\n",
    "[0:last index: 1] by default value"
   ]
  },
  {
   "cell_type": "code",
   "execution_count": 5,
   "metadata": {},
   "outputs": [
    {
     "name": "stdout",
     "output_type": "stream",
     "text": [
      "hoenix\n",
      "Phoeni\n",
      "Ponx\n",
      "hei\n",
      "nix\n",
      "xineohP\n"
     ]
    }
   ],
   "source": [
    "city = 'Phoenix'\n",
    "\n",
    "print(city[1:]) # Starts from index 1 to the end\n",
    "print(city[:6]) # Starts from index zero to 5th index\n",
    "print(city[::2]) # Starts from index zero to the end by 2 step\n",
    "print(city[1::2]) # Starts from index 1 to the end by 2 step\n",
    "print(city[-3:]) # Starts from index -3 to the end\n",
    "print(city[::-1]) # negative step starts from the end to zero"
   ]
  },
  {
   "cell_type": "code",
   "execution_count": 48,
   "metadata": {},
   "outputs": [
    {
     "name": "stdout",
     "output_type": "stream",
     "text": [
      "ie\n",
      "  2nd line\n",
      "  3rd line\n"
     ]
    }
   ],
   "source": [
    "city = 'Phoenix'\n",
    "\n",
    "print(city[-2:-6:-2])\n",
    "print(city[-1:-5:2],' 2nd line')\n",
    "print(city[-2:-6],' 3rd line')# gives empty space beacuse of wrong index follow"
   ]
  },
  {
   "cell_type": "code",
   "execution_count": null,
   "metadata": {},
   "outputs": [],
   "source": [
    "# Negative indexing works as the same\n",
    "'  O r a n g e'\n",
    "# -6-5-4-3-2-1\n",
    "# Last isndex is always -1"
   ]
  },
  {
   "cell_type": "code",
   "execution_count": null,
   "metadata": {},
   "outputs": [],
   "source": [
    "# len() function measure the length of any iterable:\n",
    "vegetable = 'Tomato'\n",
    "print('The length of the word', vegetable, 'is :' , len(vegetable))"
   ]
  },
  {
   "cell_type": "markdown",
   "metadata": {},
   "source": [
    "## 2) String Formatting with Arithmetic Syntax\n",
    "\n",
    "We can use arithmetic operator syntaxes in string\n",
    "formatting operations\n",
    "\n",
    "Here are basic operators : **+**,**=**,**\\*** \n",
    "* **+** ==> is concatination means add to stings together\n",
    "* **=** ==> is assigment \n",
    "* **\\*** ==> is define how many times same string will repeat"
   ]
  },
  {
   "cell_type": "code",
   "execution_count": 7,
   "metadata": {},
   "outputs": [
    {
     "name": "stdout",
     "output_type": "stream",
     "text": [
      "uppercase\n",
      "uppercaseuppercaseuppercase\n",
      "u p p e r\n"
     ]
    }
   ],
   "source": [
    "str_one = 'upper'\n",
    "str_two = 'case'\n",
    "str_comb = str_one + str_two\n",
    "print(str_comb)\n",
    "print(3 * str_comb)\n",
    "print(* str_one)"
   ]
  },
  {
   "cell_type": "code",
   "execution_count": 8,
   "metadata": {},
   "outputs": [
    {
     "name": "stdout",
     "output_type": "stream",
     "text": [
      "I   a m   a n g r y\n",
      "a l e x @ c l a r u s w a y . c o m\n"
     ]
    }
   ],
   "source": [
    "# Ex: Separate these strings into its characters using *\n",
    "string1 = 'I am angry'\n",
    "'alex@clarusway.com'\n",
    "\n",
    "print(* string1)\n",
    "print(* 'alex@clarusway.com')"
   ]
  },
  {
   "cell_type": "code",
   "execution_count": 40,
   "metadata": {},
   "outputs": [
    {
     "name": "stdout",
     "output_type": "stream",
     "text": [
      "uppercase casecasecase\n"
     ]
    }
   ],
   "source": [
    "str_one += str_two\n",
    "str_two *= 3\n",
    "print(str_one, str_two)\n",
    "str_one = 'upper'\n",
    "str_two = 'case'"
   ]
  },
  {
   "cell_type": "markdown",
   "metadata": {},
   "source": [
    "## 3) string.format()\n",
    "\n",
    "String Formatting with **string.format()** Method \n",
    "\n",
    "The formula syntax 👇\n",
    "\n",
    "'string {} string {} string'.format(data1, data2)"
   ]
  },
  {
   "cell_type": "code",
   "execution_count": 49,
   "metadata": {},
   "outputs": [
    {
     "data": {
      "text/plain": [
       "'My favourite school is Clarusway. I learn Python in it!'"
      ]
     },
     "execution_count": 49,
     "metadata": {},
     "output_type": "execute_result"
    }
   ],
   "source": [
    "'My favourite school is {}. I learn {} in it!'.format('Clarusway','Python')"
   ]
  },
  {
   "cell_type": "code",
   "execution_count": 50,
   "metadata": {},
   "outputs": [
    {
     "name": "stdout",
     "output_type": "stream",
     "text": [
      "The amount of Orange we bought is 4 pounds\n"
     ]
    }
   ],
   "source": [
    "fruit = 'Orange'\n",
    "amount = 4\n",
    "print('The amount of {} we bought is {} pounds'.format(fruit,amount))"
   ]
  },
  {
   "cell_type": "code",
   "execution_count": 52,
   "metadata": {},
   "outputs": [
    {
     "data": {
      "text/plain": [
       "'California is most crowded state'"
      ]
     },
     "execution_count": 52,
     "metadata": {},
     "output_type": "execute_result"
    }
   ],
   "source": [
    "'{state} is most {adjective} state'.format(state='California',adjective='crowded')"
   ]
  },
  {
   "cell_type": "code",
   "execution_count": 53,
   "metadata": {},
   "outputs": [
    {
     "data": {
      "text/plain": [
       "\"Tacettin's daugter name is Alya. She is 3 years old\""
      ]
     },
     "execution_count": 53,
     "metadata": {},
     "output_type": "execute_result"
    }
   ],
   "source": [
    "\"{1}'s daugter name is {0}. She is {age} years old\".format(\"Alya\",\"Tacettin\",age=3)"
   ]
  },
  {
   "cell_type": "code",
   "execution_count": null,
   "metadata": {},
   "outputs": [],
   "source": []
  },
  {
   "cell_type": "markdown",
   "metadata": {},
   "source": [
    "## 4) String Formatting with f-string\n",
    "\n",
    "The formula syntax 👇\n",
    "\n",
    "f'string {variable1} string {variable2} string'"
   ]
  },
  {
   "cell_type": "code",
   "execution_count": 54,
   "metadata": {},
   "outputs": [
    {
     "name": "stdout",
     "output_type": "stream",
     "text": [
      "The amount of Orange and Apple we bought are totally 4 pounds.\n"
     ]
    }
   ],
   "source": [
    "fruit = 'Orange'\n",
    "amount = 4\n",
    "vegetable = 'Apple'\n",
    "output = f\"The amount of {fruit} and {vegetable} we bought are totally {amount} pounds.\"\n",
    "print(output)"
   ]
  },
  {
   "cell_type": "code",
   "execution_count": 55,
   "metadata": {},
   "outputs": [
    {
     "name": "stdout",
     "output_type": "stream",
     "text": [
      "8\n"
     ]
    }
   ],
   "source": [
    "# You can use all valid expressions, variables, and even methods in curly braces.\n",
    "sample = f\"{2 ** 3}\"\n",
    "print(sample)"
   ]
  },
  {
   "cell_type": "code",
   "execution_count": 56,
   "metadata": {},
   "outputs": [
    {
     "name": "stdout",
     "output_type": "stream",
     "text": [
      "My name is Mariam\n"
     ]
    }
   ],
   "source": [
    "# Task :\n",
    "# ▹ Type a Python code to get the output of “My name is Mariam”, \n",
    "# using .capitalize() and f-string methods with the name variable below.\n",
    "name = \"MARIAM\"\n",
    "print(f'My name is {name.capitalize()}')"
   ]
  },
  {
   "cell_type": "code",
   "execution_count": 58,
   "metadata": {},
   "outputs": [
    {
     "name": "stdout",
     "output_type": "stream",
     "text": [
      "Hi Taji, You are one of the teachers in the DevOps section.\n"
     ]
    }
   ],
   "source": [
    "# There is also a multiline f-string formatting style. 👇\n",
    "\n",
    "name = 'Taji'\n",
    "job = 'teachers'\n",
    "domain = 'DevOps'\n",
    "message = (\n",
    "    f'Hi {name}, '\n",
    "    f'You are one of the {job} '\n",
    "    f'in the {domain} section.'\n",
    ") # while using multiline be careful about () or \\\n",
    "print(message)\n",
    "\n",
    "# message = f'Hi {name}, ' \\\n",
    "#     f'You are one of the {job} '\\\n",
    "#     f'in the {domain} section.'\n"
   ]
  },
  {
   "cell_type": "code",
   "execution_count": null,
   "metadata": {},
   "outputs": [],
   "source": []
  }
 ],
 "metadata": {
  "interpreter": {
   "hash": "916dbcbb3f70747c44a77c7bcd40155683ae19c65e1c03b4aa3499c5328201f1"
  },
  "kernelspec": {
   "display_name": "Python 3.8.10 64-bit",
   "language": "python",
   "name": "python3"
  },
  "language_info": {
   "codemirror_mode": {
    "name": "ipython",
    "version": 3
   },
   "file_extension": ".py",
   "mimetype": "text/x-python",
   "name": "python",
   "nbconvert_exporter": "python",
   "pygments_lexer": "ipython3",
   "version": "3.8.10"
  },
  "orig_nbformat": 4
 },
 "nbformat": 4,
 "nbformat_minor": 2
}
