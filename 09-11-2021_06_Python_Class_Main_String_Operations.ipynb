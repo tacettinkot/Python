{
 "cells": [
  {
   "cell_type": "markdown",
   "metadata": {},
   "source": [
    "# String Immutability   \n",
    "\n",
    "We cannot change the string\n",
    "\n",
    "To change string, we should reassign the new(changed) string value to a variable"
   ]
  },
  {
   "cell_type": "code",
   "execution_count": 1,
   "metadata": {},
   "outputs": [
    {
     "name": "stdout",
     "output_type": "stream",
     "text": [
      "clarusway\n",
      "Clarusway\n",
      "clarusway\n"
     ]
    }
   ],
   "source": [
    "var_string ='Clarusway'\n",
    "print(var_string.lower())\n",
    "print(var_string)\n",
    "var_string = 'Clarusway'.lower()\n",
    "print(var_string)"
   ]
  },
  {
   "cell_type": "code",
   "execution_count": null,
   "metadata": {},
   "outputs": [],
   "source": [
    "var_str = 'In God we Trust'\n",
    "var_str.lower()\n",
    "print(var_str)"
   ]
  },
  {
   "cell_type": "markdown",
   "metadata": {},
   "source": [
    "# Searching a String\n",
    "\n",
    "We will use some methods to find out strings\n",
    "* string.startswith()\n",
    "\n",
    "Starts searching from the beginning to the end. Gives Boolean result\n",
    "* string.endswith()\n",
    "\n",
    "Starts seaching from the very end to the beginning. Gives Boolean result"
   ]
  },
  {
   "cell_type": "code",
   "execution_count": null,
   "metadata": {},
   "outputs": [],
   "source": [
    "text = 'www.clarusway.com'\n",
    "print(text.endswith('.com'))\n",
    "print(text.startswith('http:'))"
   ]
  },
  {
   "cell_type": "code",
   "execution_count": null,
   "metadata": {},
   "outputs": [],
   "source": [
    "text = 'www.clarusway.com'\n",
    "print(text.endswith('om'))\n",
    "print(text.startswith('w'))"
   ]
  },
  {
   "cell_type": "code",
   "execution_count": 5,
   "metadata": {},
   "outputs": [
    {
     "data": {
      "text/plain": [
       "False"
      ]
     },
     "execution_count": 5,
     "metadata": {},
     "output_type": "execute_result"
    }
   ],
   "source": [
    "text = 'www.clarusway.com'\n",
    "text.startswith('lc')\n",
    "text.endswith('ya')"
   ]
  },
  {
   "cell_type": "code",
   "execution_count": 7,
   "metadata": {},
   "outputs": [
    {
     "data": {
      "text/plain": [
       "True"
      ]
     },
     "execution_count": 7,
     "metadata": {},
     "output_type": "execute_result"
    }
   ],
   "source": [
    "text = 'clarusway'\n",
    "text.startswith('u',4)"
   ]
  },
  {
   "cell_type": "code",
   "execution_count": 10,
   "metadata": {},
   "outputs": [
    {
     "data": {
      "text/plain": [
       "True"
      ]
     },
     "execution_count": 10,
     "metadata": {},
     "output_type": "execute_result"
    }
   ],
   "source": [
    "text.startswith('w',6,7)"
   ]
  },
  {
   "cell_type": "markdown",
   "metadata": {},
   "source": [
    "# Changing a String\n",
    "\n",
    "##### string.method(arguments)\n",
    "The summary of some common and the most important methods are as follows\n",
    "* string.upper() => Makes all chracters uppercase in string\n",
    "* string.lower() => Makes all characters lowercase in string\n",
    "* string.swapcase => changes lower to upper upper to lower characters\n",
    "* string.title() => Changes fir letter to upper rest will be lower\n",
    "* string.replace(old,new,count) => replace the letters to new one if we dont add count it will turn all characters to new one\n",
    "\n",
    "NOTE: We can use multiple methods in one time\n",
    "    Ex) str.lower().replace()...."
   ]
  },
  {
   "cell_type": "code",
   "execution_count": 36,
   "metadata": {},
   "outputs": [
    {
     "name": "stdout",
     "output_type": "stream",
     "text": [
      "I LIVE AND WORK IN VIRGINIA\n",
      "i live and work in virginia\n",
      "i LIVE AND WORK IN vIRGINIA\n",
      "I live and work in Virginia\n",
      "I l*ve and work *n V*rg*n*a\n",
      "I l$ve and work $n Virginia\n"
     ]
    }
   ],
   "source": [
    "sentence = 'I live and work in Virginia'\n",
    "print(sentence.upper())\n",
    "print(sentence.lower())\n",
    "print(sentence.swapcase())\n",
    "print(sentence)\n",
    "print(sentence.replace('i','*'))\n",
    "print(sentence.replace('i','$',2))"
   ]
  },
  {
   "cell_type": "code",
   "execution_count": 37,
   "metadata": {},
   "outputs": [
    {
     "name": "stdout",
     "output_type": "stream",
     "text": [
      "The Better The Family, The Better The Society\n"
     ]
    }
   ],
   "source": [
    "# Let’s change the first letters of each words to uppercase of the following text 👇\n",
    "text = 'the better the family, the better the society'\n",
    "text = text.title()\n",
    "print(text)"
   ]
  },
  {
   "cell_type": "code",
   "execution_count": 40,
   "metadata": {},
   "outputs": [
    {
     "name": "stdout",
     "output_type": "stream",
     "text": [
      "Sodome and Gomore\n"
     ]
    }
   ],
   "source": [
    "# In the text below, accidentally the number 0(zero) is used  instead of the letter ‘o’ (oh). \n",
    "# Fix them using .replace() method and change the value of the variable considering the\n",
    "# new text and print the result.\n",
    "text = 'S0d0me and G0m0re'\n",
    "text = text.replace('0','o')\n",
    "print(text)"
   ]
  },
  {
   "cell_type": "markdown",
   "metadata": {},
   "source": [
    "# Editing a String\n",
    "### ▸ The formula syntax 👇\n",
    "string.method(arguments)\n",
    "### The summary of some common and the most important methods are as follows 👇\n",
    "* str.strip() ==> removes all spaces from both sides\n",
    "* str.rstrip() => removes spaces from the right side\n",
    "* str.lstrip() => removes spaces from the left side"
   ]
  },
  {
   "cell_type": "code",
   "execution_count": 45,
   "metadata": {},
   "outputs": [
    {
     "name": "stdout",
     "output_type": "stream",
     "text": [
      "9\n",
      "25\n"
     ]
    }
   ],
   "source": [
    "canli_yayin = \"        clarusway        \"\n",
    "print(canli_yayin.strip().__len__())\n",
    "print(canli_yayin.__len__())"
   ]
  },
  {
   "cell_type": "code",
   "execution_count": 50,
   "metadata": {},
   "outputs": [
    {
     "data": {
      "text/plain": [
       "'laruswa'"
      ]
     },
     "execution_count": 50,
     "metadata": {},
     "output_type": "execute_result"
    }
   ],
   "source": [
    "str = \"clarusway\"\n",
    "str.strip('cy')\n",
    "# NOTE: removes trailing 'c' or 'y' or 'cy' or 'yc' from both sides"
   ]
  },
  {
   "cell_type": "code",
   "execution_count": 53,
   "metadata": {},
   "outputs": [
    {
     "data": {
      "text/plain": [
       "'arusway'"
      ]
     },
     "execution_count": 53,
     "metadata": {},
     "output_type": "execute_result"
    }
   ],
   "source": [
    "str.lstrip(\"cl\")"
   ]
  },
  {
   "cell_type": "code",
   "execution_count": 54,
   "metadata": {},
   "outputs": [
    {
     "data": {
      "text/plain": [
       "'clarusway'"
      ]
     },
     "execution_count": 54,
     "metadata": {},
     "output_type": "execute_result"
    }
   ],
   "source": [
    "str.lstrip(\"ay\")\n",
    "# NOTE: removes trailing 'a' or 'y' or 'ay' or 'ya' from left side"
   ]
  },
  {
   "cell_type": "code",
   "execution_count": 56,
   "metadata": {},
   "outputs": [
    {
     "name": "stdout",
     "output_type": "stream",
     "text": [
      "YOU CAN LEARN ALMOST EVERYTHING IN PRE-CLASS\n"
     ]
    }
   ],
   "source": [
    "# Task 👇\n",
    "# ▹ In the text below, accidentally there are additional letters.\n",
    "# Remove the additional letters and make the all words uppercase.\n",
    "#▹ Except for the print() line, your code should consist of a single line.\n",
    "text = 'tyou can learn almost everything in pre-classz'\n",
    "text = text.strip(\"tz\").upper()\n",
    "print(text)"
   ]
  },
  {
   "cell_type": "code",
   "execution_count": 61,
   "metadata": {},
   "outputs": [
    {
     "name": "stdout",
     "output_type": "stream",
     "text": [
      "In God we Trust\n"
     ]
    }
   ],
   "source": [
    "# Task 👇\n",
    "# ▹ In the text below, accidentally the number the word “we” is\n",
    "# wrong written. Remove the additional “e” letter and print the correct text.\n",
    "# ▹ You can also use indexing/slicing/methods of string.\n",
    "text = 'In God wee Trust'\n",
    "print(text[:9]+text[10:]) # try different way"
   ]
  },
  {
   "cell_type": "code",
   "execution_count": 64,
   "metadata": {},
   "outputs": [
    {
     "name": "stdout",
     "output_type": "stream",
     "text": [
      "The sum of 3 + 4 is : 7\n",
      "The multiplication of 3 x 4 is : 12\n",
      "The power of 3 to 4 is : 81\n"
     ]
    }
   ],
   "source": [
    "# extra studies\n",
    "a = 3\n",
    "b = 4\n",
    "print(\"The sum of {} + {} is : {}\".format(a,b,a+b))\n",
    "\n",
    "print(\"The multiplication of {} x {} is : {}\".format(a,b,a*b))\n",
    "\n",
    "\n",
    "print(\"The power of {} to {} is : {}\".format(a,b,a**b))\n"
   ]
  },
  {
   "cell_type": "code",
   "execution_count": 67,
   "metadata": {},
   "outputs": [
    {
     "name": "stdout",
     "output_type": "stream",
     "text": [
      "Ex1: 3.15, 5.385, 7.1345\n",
      "Ex2: 3a, 5.b, 7.13\n",
      "Ex3: 3a, 5.b, 7.13\n"
     ]
    }
   ],
   "source": [
    "# STRING FORMAT EXERCISE\n",
    "text = \"{:.2f}, {:.3f}, {:.4f}\".format(3.1475, 5.3854, 7.1345422) # yuvarlama yapiyor. float icin .tadan sonra kac karakter alinacak onu gosteriyor\n",
    "print(\"Ex1: \" + text)\n",
    "\n",
    "text = \"{:.2s}, {:.3s}, {:.4s}\".format(\"3a.1415\", \"5.b3854\", \"7.1345422c\") # toplamda kac karakter alinacak onu gosteriyor\n",
    "print(\"Ex2: \" + text)\n",
    "\n",
    "text = \"{:.2}, {:.3}, {:.4}\".format(\"3a.1415\", \"5.b3854\", \"7.1345422c\") # yukaridaki ile ayni \"s\"i yazmamiz gerekmiyor\n",
    "print(\"Ex3: \" + text)\n",
    "\n"
   ]
  },
  {
   "cell_type": "code",
   "execution_count": 78,
   "metadata": {},
   "outputs": [
    {
     "name": "stdout",
     "output_type": "stream",
     "text": [
      "      test\n"
     ]
    },
    {
     "data": {
      "text/plain": [
       "'deneme    '"
      ]
     },
     "execution_count": 78,
     "metadata": {},
     "output_type": "execute_result"
    }
   ],
   "source": [
    "# verilen kelime belirlenmis satirin en sagkismini dolduracak\n",
    "# ex: 10 karakterlik bir bosluga test kelimesini ekle\n",
    "text = \"{:>10}\".format(\"test\")\n",
    "print(text)\n",
    "\n",
    "text = \"{:<10}\".format(\"deneme\")\n",
    "text"
   ]
  },
  {
   "cell_type": "code",
   "execution_count": 79,
   "metadata": {},
   "outputs": [
    {
     "data": {
      "text/plain": [
       "'formatlama methodu test                 son kismi'"
      ]
     },
     "execution_count": 79,
     "metadata": {},
     "output_type": "execute_result"
    }
   ],
   "source": [
    "text = \"formatlama methodu {:<20} son kismi\".format(\"test\")\n",
    "text"
   ]
  },
  {
   "cell_type": "code",
   "execution_count": 80,
   "metadata": {},
   "outputs": [
    {
     "data": {
      "text/plain": [
       "'formatlama methodu         test         son kismi'"
      ]
     },
     "execution_count": 80,
     "metadata": {},
     "output_type": "execute_result"
    }
   ],
   "source": [
    "# yazimizi ortalamak istersek\n",
    "text = \"formatlama methodu {:^20} son kismi\".format(\"test\")\n",
    "text"
   ]
  },
  {
   "cell_type": "code",
   "execution_count": 81,
   "metadata": {},
   "outputs": [
    {
     "data": {
      "text/plain": [
       "'hippo     '"
      ]
     },
     "execution_count": 81,
     "metadata": {},
     "output_type": "execute_result"
    }
   ],
   "source": [
    "\"{:10.5}\".format(\"hippopotamus\")"
   ]
  },
  {
   "cell_type": "code",
   "execution_count": 84,
   "metadata": {},
   "outputs": [
    {
     "data": {
      "text/plain": [
       "'          hippo'"
      ]
     },
     "execution_count": 84,
     "metadata": {},
     "output_type": "execute_result"
    }
   ],
   "source": [
    "\"{:>15.5}\".format(\"hippopotamus\")"
   ]
  },
  {
   "cell_type": "code",
   "execution_count": 85,
   "metadata": {},
   "outputs": [
    {
     "data": {
      "text/plain": [
       "'+55'"
      ]
     },
     "execution_count": 85,
     "metadata": {},
     "output_type": "execute_result"
    }
   ],
   "source": [
    "\"{:+}\".format(55)"
   ]
  }
 ],
 "metadata": {
  "interpreter": {
   "hash": "916dbcbb3f70747c44a77c7bcd40155683ae19c65e1c03b4aa3499c5328201f1"
  },
  "kernelspec": {
   "display_name": "Python 3.8.10 64-bit",
   "language": "python",
   "name": "python3"
  },
  "language_info": {
   "codemirror_mode": {
    "name": "ipython",
    "version": 3
   },
   "file_extension": ".py",
   "mimetype": "text/x-python",
   "name": "python",
   "nbconvert_exporter": "python",
   "pygments_lexer": "ipython3",
   "version": "3.8.10"
  },
  "orig_nbformat": 4
 },
 "nbformat": 4,
 "nbformat_minor": 2
}
